{
 "cells": [
  {
   "cell_type": "code",
   "execution_count": 1,
   "id": "6772a106",
   "metadata": {},
   "outputs": [
    {
     "name": "stdout",
     "output_type": "stream",
     "text": [
      "Requirement already satisfied: numpy in c:\\users\\jairo\\anaconda3\\envs\\projetos\\lib\\site-packages (1.21.5)\n",
      "Note: you may need to restart the kernel to use updated packages.\n"
     ]
    }
   ],
   "source": [
    "pip install numpy"
   ]
  },
  {
   "cell_type": "code",
   "execution_count": 2,
   "id": "1d73a4ae",
   "metadata": {},
   "outputs": [
    {
     "data": {
      "text/html": [
       "<script>$(\"div.input\").hide()</script>"
      ],
      "text/plain": [
       "<IPython.core.display.HTML object>"
      ]
     },
     "metadata": {},
     "output_type": "display_data"
    },
    {
     "data": {
      "application/vnd.jupyter.widget-view+json": {
       "model_id": "0df4c29bf8dc41f6bf1d56046d1da315",
       "version_major": 2,
       "version_minor": 0
      },
      "text/plain": [
       "ToggleButton(value=False, description='Show code')"
      ]
     },
     "metadata": {},
     "output_type": "display_data"
    }
   ],
   "source": [
    "\n",
    "import ipywidgets as widgets\n",
    "from IPython.display import display, HTML\n",
    "\n",
    "javascript_functions = {False: \"hide()\", True: \"show()\"}\n",
    "button_descriptions  = {False: \"Show code\", True: \"Hide code\"}\n",
    "\n",
    "\n",
    "def toggle_code(state):\n",
    "\n",
    "    \"\"\"\n",
    "    Toggles the JavaScript show()/hide() function on the div.input element.\n",
    "    \"\"\"\n",
    "\n",
    "    output_string = \"<script>$(\\\"div.input\\\").{}</script>\"\n",
    "    output_args   = (javascript_functions[state],)\n",
    "    output        = output_string.format(*output_args)\n",
    "\n",
    "    display(HTML(output))\n",
    "\n",
    "\n",
    "def button_action(value):\n",
    "\n",
    "    \"\"\"\n",
    "    Calls the toggle_code function and updates the button description.\n",
    "    \"\"\"\n",
    "\n",
    "    state = value.new\n",
    "\n",
    "    toggle_code(state)\n",
    "\n",
    "    value.owner.description = button_descriptions[state]\n",
    "\n",
    "\n",
    "state = False\n",
    "toggle_code(state)\n",
    "\n",
    "button = widgets.ToggleButton(state, description = button_descriptions[state])\n",
    "button.observe(button_action, \"value\")\n",
    "\n",
    "display(button)"
   ]
  },
  {
   "cell_type": "code",
   "execution_count": 3,
   "id": "e1b8ffc9",
   "metadata": {},
   "outputs": [],
   "source": [
    "import numpy as np\n",
    "import time\n",
    "from IPython.display import Math\n",
    "from IPython.display import display\n",
    "\n",
    "precision = 2"
   ]
  },
  {
   "cell_type": "code",
   "execution_count": 4,
   "id": "954a06fe",
   "metadata": {},
   "outputs": [
    {
     "name": "stdout",
     "output_type": "stream",
     "text": [
      "Digite o penúltimo número da matrícula (W): 5\n",
      "Digite o último número da matrícula (Z): 7\n"
     ]
    }
   ],
   "source": [
    "W = int(input(\"Digite o penúltimo número da matrícula (W): \"))\n",
    "Z = int(input(\"Digite o último número da matrícula (Z): \"))"
   ]
  },
  {
   "cell_type": "markdown",
   "id": "26a36dcf",
   "metadata": {},
   "source": [
    "# Questão 1\n",
    "### Calcule as reações de apoio. O W é o penúltimo algarismo da matrícula, e o Z o último algarismo. (10 pontos)"
   ]
  },
  {
   "cell_type": "code",
   "execution_count": 5,
   "id": "1b4a1419",
   "metadata": {},
   "outputs": [],
   "source": [
    "centenaF1 = 3\n",
    "dezenaF1 = 5\n",
    "centenaF2 = 4\n",
    "dezenaF2 = 8\n",
    "\n",
    "L1_1 = 2\n",
    "L1_2 = 1\n",
    "L1_3 = 1\n",
    "Lt1 = L1_1+L1_2+L1_3\n",
    "\n",
    "F1 = W*1000+centenaF1*100+dezenaF1*10+Z*1\n",
    "F2 = W*1000+centenaF2*100+dezenaF2*10+Z*1\n",
    "Ft1 = F1+F2\n",
    "RB1 = round(((F1*L1_1)+F2*(L1_1+L1_2))/Lt1,precision)\n",
    "RA1 = round(Ft1-RB1,precision)"
   ]
  },
  {
   "cell_type": "code",
   "execution_count": 6,
   "id": "3885a6a8",
   "metadata": {},
   "outputs": [
    {
     "data": {
      "text/latex": [
       "$\\displaystyle \\sum \\text{  MA = 0} \\circlearrowleft + \\newline\\ \\newline - 5357 \\times 2 - 5487 \\times 3 + \\text{RB} \\times 4 = 0\\newline\\ \\newline - 10714 - 16461 + 4\\text{RB} = 0\\newline\\ \\newline 4\\text{RB} = 10714 + 16461\\newline\\ \\newline 4\\text{RB} = 27175\\newline\\ \\newline \\text{RB} =\\dfrac{27175}4\\newline\\ \\newline \\text{RB} = 6793.75\\text{ N}$"
      ],
      "text/plain": [
       "<IPython.core.display.Math object>"
      ]
     },
     "execution_count": 6,
     "metadata": {},
     "output_type": "execute_result"
    }
   ],
   "source": [
    "Math(rf'\\sum \\text{{  MA = 0}} \\circlearrowleft + \\newline\\ \\newline - {F1} \\times {L1_1} - {F2} \\times {L1_1+L1_2} + \\text{{RB}} \\times {Lt1} = {0}\\newline\\ \\newline - {F1*L1_1} - {F2*(L1_1+L1_2)} + {Lt1}\\text{{RB}} = {0}\\newline\\ \\newline {Lt1}\\text{{RB}} = {F1*L1_1} + {F2*(L1_1+L1_2)}\\newline\\ \\newline {Lt1}\\text{{RB}} = {(F1*L1_1)+F2*(L1_1+L1_2)}\\newline\\ \\newline \\text{{RB}} =\\dfrac{{{(F1*L1_1)+F2*(L1_1+L1_2)}}}{Lt1}\\newline\\ \\newline \\text{{RB}} = {RB1}\\text{{ N}}')"
   ]
  },
  {
   "cell_type": "code",
   "execution_count": 7,
   "id": "57078f27",
   "metadata": {
    "scrolled": true
   },
   "outputs": [
    {
     "data": {
      "text/latex": [
       "$\\displaystyle \\sum \\text{ Fy = 0} \\uparrow +\\newline\\ \\newline \\text{RA + RB}- 5357 - 5487 = 0\\newline\\ \\newline \\text{RA + RB} = 5357 + 5487\\newline\\ \\newline \\text{RA + RB} = 10844 \\newline\\ \\newline \\text{RA} + 6793.75 = 10844\\newline\\ \\newline \\text{RA} = 10844 - 6793.75 \\newline\\ \\newline \\text{RA} = 4050.25\\text{ N} $"
      ],
      "text/plain": [
       "<IPython.core.display.Math object>"
      ]
     },
     "execution_count": 7,
     "metadata": {},
     "output_type": "execute_result"
    }
   ],
   "source": [
    "Math(rf'\\sum \\text{{ Fy = 0}} \\uparrow +\\newline\\ \\newline \\text{{RA + RB}}- {F1} - {F2} = {0}\\newline\\ \\newline \\text{{RA + RB}} = {F1} + {F2}\\newline\\ \\newline \\text{{RA + RB}} = {Ft1} \\newline\\ \\newline \\text{{RA}} + {RB1} = {Ft1}\\newline\\ \\newline \\text{{RA}} = {Ft1} - {RB1} \\newline\\ \\newline \\text{{RA}} = {RA1}\\text{{ N}} ')"
   ]
  },
  {
   "cell_type": "markdown",
   "id": "e45f2e35",
   "metadata": {},
   "source": [
    "# Questão 2\n",
    "### Calcule o momento fletor nos pontos onde as forças estão aplicadas. O W é o penúltimo algarismo da matrícula, e o Z o último algarismo. (25 pontos)"
   ]
  },
  {
   "cell_type": "code",
   "execution_count": 8,
   "id": "edf310fc",
   "metadata": {},
   "outputs": [],
   "source": [
    "milharF3 = 6\n",
    "centenaF3 = 0\n",
    "unidadeF3 = 0\n",
    "milharF4 = 4\n",
    "dezenaF4 = 0\n",
    "unidadeF4 = 0\n",
    "L2_1 = 1\n",
    "L2_2 = 3\n",
    "L2_3 = 2\n",
    "Lt2 = L2_1+L2_2+L2_3\n",
    "\n",
    "F3 = milharF3*1000+centenaF3*100+W*10+unidadeF3*1\n",
    "F4 = milharF4*1000+Z*100+dezenaF4*10+unidadeF4*1\n",
    "Ft2 = F3+F4\n",
    "RB2 = round(((F3*L2_1)+F4*(L2_1+L2_2))/Lt2,precision)\n",
    "RA2 = round(Ft2-RB2,precision)"
   ]
  },
  {
   "cell_type": "code",
   "execution_count": 9,
   "id": "fd1e9c23",
   "metadata": {},
   "outputs": [
    {
     "data": {
      "text/latex": [
       "$\\displaystyle \\sum \\text{  MA = 0} \\circlearrowleft +\\newline\\ \\newline - 6050 \\times 1 - 4700 \\times 4 + \\text{RB} \\times 6 = 0\\newline\\ \\newline - 6050 - 18800 + 6\\text{RB} = 0\\newline\\ \\newline 6\\text{RB} = 6050 + 18800\\newline\\ \\newline 6\\text{RB} = 24850\\newline\\ \\newline \\text{RB} =\\dfrac{24850}6\\newline\\ \\newline \\text{RB} = 4141.67\\text{ N}$"
      ],
      "text/plain": [
       "<IPython.core.display.Math object>"
      ]
     },
     "execution_count": 9,
     "metadata": {},
     "output_type": "execute_result"
    }
   ],
   "source": [
    "Math(rf'\\sum \\text{{  MA = 0}} \\circlearrowleft +\\newline\\ \\newline - {F3} \\times {L2_1} - {F4} \\times {L2_1+L2_2} + \\text{{RB}} \\times {Lt2} = {0}\\newline\\ \\newline - {F3*L2_1} - {F4*(L2_1+L2_2)} + {Lt2}\\text{{RB}} = {0}\\newline\\ \\newline {Lt2}\\text{{RB}} = {F3*L2_1} + {F4*(L2_1+L2_2)}\\newline\\ \\newline {Lt2}\\text{{RB}} = {(F3*L2_1)+F4*(L2_1+L2_2)}\\newline\\ \\newline \\text{{RB}} =\\dfrac{{{(F3*L2_1)+F4*(L2_1+L2_2)}}}{Lt2}\\newline\\ \\newline \\text{{RB}} = {RB2}\\text{{ N}}')"
   ]
  },
  {
   "cell_type": "code",
   "execution_count": 10,
   "id": "fabaf965",
   "metadata": {
    "scrolled": false
   },
   "outputs": [
    {
     "data": {
      "text/latex": [
       "$\\displaystyle \\sum \\text{ Fy = 0} \\uparrow + \\newline\\ \\newline \\text{RA + RB}- 6050 - 4700 = 0\\newline\\ \\newline \\text{RA + RB} = 6050 + 4700\\newline\\ \\newline \\text{RA + RB} = 10750 \\newline\\ \\newline \\text{RA} + 4141.67 = 10750\\newline\\ \\newline \\text{RA} = 10750 - 4141.67 \\newline\\ \\newline \\text{RA} = 6608.33\\text{ N} $"
      ],
      "text/plain": [
       "<IPython.core.display.Math object>"
      ]
     },
     "execution_count": 10,
     "metadata": {},
     "output_type": "execute_result"
    }
   ],
   "source": [
    "Math(rf'\\sum \\text{{ Fy = 0}} \\uparrow + \\newline\\ \\newline \\text{{RA + RB}}- {F3} - {F4} = {0}\\newline\\ \\newline \\text{{RA + RB}} = {F3} + {F4}\\newline\\ \\newline \\text{{RA + RB}} = {Ft2} \\newline\\ \\newline \\text{{RA}} + {RB2} = {Ft2}\\newline\\ \\newline \\text{{RA}} = {Ft2} - {RB2} \\newline\\ \\newline \\text{{RA}} = {RA2}\\text{{ N}} ')"
   ]
  },
  {
   "cell_type": "markdown",
   "id": "c7683bef",
   "metadata": {},
   "source": [
    "# Questão 4\n",
    "### \tUm eixo-árvore com diâmetro igual a 60 mm transmite uma potência de 7W kw a uma frequência de 4Z Hz. Determine: (10 pontos)"
   ]
  },
  {
   "cell_type": "code",
   "execution_count": 11,
   "id": "44711dc7",
   "metadata": {},
   "outputs": [],
   "source": [
    "dezenaP4 = 7\n",
    "unidadeP4 = W\n",
    "dezenaf4 = 4\n",
    "unidadef4 = Z\n",
    "P4 = (dezenaP4*10+unidadeP4*1)*1000\n",
    "f4 = dezenaf4*10+unidadef4*1\n",
    "n4 = 60*f4\n",
    "mt4 = (30*P4)/(np.pi*n4)\n",
    "d4 = 0.060\n",
    "resultA4 = round(2*np.pi*f4,precision)\n",
    "resultB4 = round(60*f4,precision)\n",
    "resultC4 = round((30*P4)/(np.pi*n4),precision)\n",
    "resultD41 = round((16*mt4)/(np.pi*d4*d4*d4),precision)\n",
    "resultD42 = round(((16*mt4)/(np.pi*d4*d4*d4))/1000000,precision)"
   ]
  },
  {
   "cell_type": "markdown",
   "id": "e0794cc3",
   "metadata": {},
   "source": [
    "## a) Velocidade angular ($\\omega$)"
   ]
  },
  {
   "cell_type": "code",
   "execution_count": 12,
   "id": "ef2cf0fc",
   "metadata": {},
   "outputs": [
    {
     "data": {
      "text/latex": [
       "$\\displaystyle \\omega = \\text{2}.\\pi.f\\newline\\ \\newline \\omega = \\text{2}\\times\\pi\\times47\\newline \\omega = 295.31\\ \\dfrac{\\text{rad}}{\\text{s}}$"
      ],
      "text/plain": [
       "<IPython.core.display.Math object>"
      ]
     },
     "execution_count": 12,
     "metadata": {},
     "output_type": "execute_result"
    }
   ],
   "source": [
    "Math(rf'\\omega = \\text{{2}}.\\pi.f\\newline\\ \\newline \\omega = \\text{{2}}\\times\\pi\\times{f4}\\newline \\omega = {resultA4}\\ \\dfrac{{\\text{{rad}}}}{{\\text{{s}}}}')"
   ]
  },
  {
   "cell_type": "markdown",
   "id": "01d6b4c0",
   "metadata": {},
   "source": [
    "## b) Rotação ($rpm$)"
   ]
  },
  {
   "cell_type": "code",
   "execution_count": 13,
   "id": "a2e59eff",
   "metadata": {},
   "outputs": [
    {
     "data": {
      "text/latex": [
       "$\\displaystyle n = 60\\ .f\\newline\\ \\newline n = \\text{60}*47\\newline\\ \\newline n = 2820\\text{ rpm}$"
      ],
      "text/plain": [
       "<IPython.core.display.Math object>"
      ]
     },
     "execution_count": 13,
     "metadata": {},
     "output_type": "execute_result"
    }
   ],
   "source": [
    "Math(rf'n = 60\\ .f\\newline\\ \\newline n = \\text{{60}}*{f4}\\newline\\ \\newline n = {resultB4}\\text{{ rpm}}')"
   ]
  },
  {
   "cell_type": "markdown",
   "id": "d9fec9f4",
   "metadata": {},
   "source": [
    "## c) Torque ($M_{t}$)"
   ]
  },
  {
   "cell_type": "code",
   "execution_count": 14,
   "id": "1bda5e62",
   "metadata": {
    "scrolled": false
   },
   "outputs": [
    {
     "data": {
      "text/latex": [
       "$\\displaystyle Mt = \\dfrac{30P}{\\pi\\ n}\\newline Mt = \\dfrac{30\\times75000}{3.141592653589793\\times2820}\\newline\\ \\newline Mt = \\dfrac{2250000}{8859.291283123217}\\newline\\ \\newline Mt = 253.97\\text{ Nm}$"
      ],
      "text/plain": [
       "<IPython.core.display.Math object>"
      ]
     },
     "execution_count": 14,
     "metadata": {},
     "output_type": "execute_result"
    }
   ],
   "source": [
    "Math(rf'Mt = \\dfrac{{30P}}{{\\pi\\ n}}\\newline Mt = \\dfrac{{{30}\\times{P4}}}{{{np.pi}\\times{n4}}}\\newline\\ \\newline Mt = \\dfrac{{{30*P4}}}{{{np.pi*n4}}}\\newline\\ \\newline Mt = {resultC4}\\text{{ Nm}}')"
   ]
  },
  {
   "cell_type": "markdown",
   "id": "15f8dafb",
   "metadata": {},
   "source": [
    "## d) Tensão Máxima ($\\tau_{max}$)"
   ]
  },
  {
   "cell_type": "code",
   "execution_count": 15,
   "id": "a25f4ae7",
   "metadata": {
    "scrolled": true
   },
   "outputs": [
    {
     "data": {
      "text/latex": [
       "$\\displaystyle \\tau = \\dfrac{16Mt}{\\pi\\ d^3}\\newline\\ \\newline \\tau = \\dfrac{16\\times253.97065387004574}{3.141592653589793\\times0.000216}\\newline\\ \\newline \\tau = \\dfrac{4063.530461920732}{0.0006785840131753952}\\newline\\ \\newline\\tau = 5988249.62\\ \\dfrac{\\text{N}}{\\text{m$^2$}}\\newline\\ \\newline\\tau = 5.99\\ \\dfrac{\\text{N}}{\\text{mm$^2$}}$"
      ],
      "text/plain": [
       "<IPython.core.display.Math object>"
      ]
     },
     "execution_count": 15,
     "metadata": {},
     "output_type": "execute_result"
    }
   ],
   "source": [
    "Math(rf'\\tau = \\dfrac{{16Mt}}{{\\pi\\ d^3}}\\newline\\ \\newline \\tau = \\dfrac{{{16}\\times{mt4}}}{{{np.pi}\\times{d4*d4*d4}}}\\newline\\ \\newline \\tau = \\dfrac{{{16*mt4}}}{{{np.pi*d4*d4*d4}}}\\newline\\ \\newline\\tau = {resultD41}\\ \\dfrac{{\\text{{N}}}}{{\\text{{m$^2$}}}}\\newline\\ \\newline\\tau = {resultD42}\\ \\dfrac{{\\text{{N}}}}{{\\text{{mm$^2$}}}}')"
   ]
  },
  {
   "cell_type": "markdown",
   "id": "2dbf9972",
   "metadata": {},
   "source": [
    "# Questão 5\n",
    "### \tO eixo-árvore representado abaixo possui diâmetro d = 65 mm, e gira com velocidade angular $\\omega$ = 3W $\\pi$ rad/s, transmitindo um torque M$_{T}$ = 3Z0 Nm. Determine: (10 pontos)"
   ]
  },
  {
   "cell_type": "code",
   "execution_count": 16,
   "id": "2a61640e",
   "metadata": {},
   "outputs": [],
   "source": [
    "dezenaW5 = 3\n",
    "unidadeW5 = W\n",
    "centenaMt5 = 3\n",
    "dezenaMt5 = Z\n",
    "unidadeMt5 = 0\n",
    "W5 = (dezenaW5*10+unidadeW5*1)*np.pi\n",
    "mt5 = centenaMt5*100+dezenaMt5*10+unidadeMt5*1\n",
    "d5 = 0.065\n",
    "ft5 = mt5/(d5/2)\n",
    "vp5 = W5*(d5/2)\n",
    "resultA5 = round(W5*(d5/2),precision)\n",
    "resultB5 = round((mt5)/(d5/2),precision)\n",
    "resultC5 = round(((16*mt5)/(np.pi*d5*d5*d5))/1000000,precision)\n",
    "resultD5 = round(mt5*W5,precision) "
   ]
  },
  {
   "cell_type": "markdown",
   "id": "e2335a79",
   "metadata": {},
   "source": [
    "## a) Velocidade periférica ($vp$)"
   ]
  },
  {
   "cell_type": "code",
   "execution_count": 17,
   "id": "e05bd550",
   "metadata": {},
   "outputs": [
    {
     "data": {
      "text/latex": [
       "$\\displaystyle vp = \\omega.r\\newline\\ \\newline vp = 109.95574287564276\\times0.0325\\newline vp = 3.57\\ \\dfrac{\\text{m}}{\\text{s}}$"
      ],
      "text/plain": [
       "<IPython.core.display.Math object>"
      ]
     },
     "execution_count": 17,
     "metadata": {},
     "output_type": "execute_result"
    }
   ],
   "source": [
    "Math(rf'vp = \\omega.r\\newline\\ \\newline vp = {W5}\\times{d5/2}\\newline vp = {resultA5}\\ \\dfrac{{\\text{{m}}}}{{\\text{{s}}}}')"
   ]
  },
  {
   "cell_type": "markdown",
   "id": "17b1ab48",
   "metadata": {},
   "source": [
    "## b) Força tangencial ($F_{t}$)"
   ]
  },
  {
   "cell_type": "code",
   "execution_count": 18,
   "id": "03679dbd",
   "metadata": {},
   "outputs": [
    {
     "data": {
      "text/latex": [
       "$\\displaystyle Ft = \\dfrac{Mt}{ r}\\newline\\ \\newline Ft = \\dfrac{370}{0.0325}\\newline\\ \\newline Ft = 11384.62\\text{ N} $"
      ],
      "text/plain": [
       "<IPython.core.display.Math object>"
      ]
     },
     "execution_count": 18,
     "metadata": {},
     "output_type": "execute_result"
    }
   ],
   "source": [
    "Math(rf'Ft = \\dfrac{{Mt}}{{ r}}\\newline\\ \\newline Ft = \\dfrac{{{mt5}}}{{{d5/2}}}\\newline\\ \\newline Ft = {resultB5}\\text{{ N}} ')"
   ]
  },
  {
   "cell_type": "markdown",
   "id": "ecc903e9",
   "metadata": {},
   "source": [
    "## c) Tensão Máxima ($\\tau_{max}$)"
   ]
  },
  {
   "cell_type": "code",
   "execution_count": 19,
   "id": "82e2a1a0",
   "metadata": {},
   "outputs": [
    {
     "data": {
      "text/latex": [
       "$\\displaystyle \\tau = \\dfrac{16Mt}{\\pi\\ d^3}\\newline\\ \\newline \\tau = \\dfrac{16\\times370}{3.141592653589793\\times0.000274625}\\newline\\ \\newline \\tau = \\dfrac{5920}{0.000862759882492097}\\newline\\ \\newline\\tau = 6861700.59611485\\ \\dfrac{\\text{N}}{\\text{m$^2$}}\\newline\\ \\newline\\tau = 6.86\\ \\dfrac{\\text{N}}{\\text{mm$^2$}}$"
      ],
      "text/plain": [
       "<IPython.core.display.Math object>"
      ]
     },
     "execution_count": 19,
     "metadata": {},
     "output_type": "execute_result"
    }
   ],
   "source": [
    "Math(rf'\\tau = \\dfrac{{16Mt}}{{\\pi\\ d^3}}\\newline\\ \\newline \\tau = \\dfrac{{{16}\\times{mt5}}}{{{np.pi}\\times{d5*d5*d5}}}\\newline\\ \\newline \\tau = \\dfrac{{{16*mt5}}}{{{np.pi*d5*d5*d5}}}\\newline\\ \\newline\\tau = {(16*mt5)/(np.pi*d5*d5*d5)}\\ \\dfrac{{\\text{{N}}}}{{\\text{{m$^2$}}}}\\newline\\ \\newline\\tau = {resultC5}\\ \\dfrac{{\\text{{N}}}}{{\\text{{mm$^2$}}}}')"
   ]
  },
  {
   "cell_type": "markdown",
   "id": "9dcdc982",
   "metadata": {},
   "source": [
    "## d) Potência ($P$)"
   ]
  },
  {
   "cell_type": "code",
   "execution_count": 20,
   "id": "52c655ec",
   "metadata": {},
   "outputs": [
    {
     "data": {
      "text/latex": [
       "$\\displaystyle P = Mt.\\omega\\newline\\ \\newline P = 370\\times109.95574287564276\\newline\\ \\newline P = 40683.62\\ \\text{w}$"
      ],
      "text/plain": [
       "<IPython.core.display.Math object>"
      ]
     },
     "execution_count": 20,
     "metadata": {},
     "output_type": "execute_result"
    }
   ],
   "source": [
    "Math(rf'P = Mt.\\omega\\newline\\ \\newline P = {mt5}\\times{W5}\\newline\\ \\newline P = {resultD5}\\ \\text{{w}}')"
   ]
  },
  {
   "cell_type": "markdown",
   "id": "d00b4987",
   "metadata": {},
   "source": [
    "# Questão 6\n",
    "### \tUm eixo-árvore possui diâmetro d = 60 mm, e gira com rotação n = 7W0 rpm, movido por uma força tangencial$\\ \\ \\ \\ \\ \\ $  F$_{T}$ = 3Z kN. Determine: (10 pontos)"
   ]
  },
  {
   "cell_type": "code",
   "execution_count": 21,
   "id": "27f442c5",
   "metadata": {},
   "outputs": [],
   "source": [
    "dezenaFt6 = 3\n",
    "unidadeFt6 = Z\n",
    "centenaN6 = 7\n",
    "dezenaN6 = W\n",
    "unidadeN6 = 0\n",
    "ft6 = (dezenaFt6*10+unidadeFt6*1)*1000\n",
    "n6 = centenaN6*100+dezenaN6*10+unidadeN6*1\n",
    "d6 = 0.060\n",
    "resultA61 = round((np.pi*n6)/(30),3)\n",
    "resultA62 = round(((np.pi*n6)/(30)/np.pi),precision)\n",
    "resultB6 = round((n6)/(60),precision)\n",
    "resultC6 = round(ft6*(d6/2),precision)\n",
    "resultD6 = round((np.pi*(d6/2)*n6)/(30),precision)"
   ]
  },
  {
   "cell_type": "markdown",
   "id": "762ffe0e",
   "metadata": {},
   "source": [
    "## a) Velocidade angular ($\\omega$)"
   ]
  },
  {
   "cell_type": "code",
   "execution_count": 22,
   "id": "5b5b9513",
   "metadata": {},
   "outputs": [
    {
     "data": {
      "text/latex": [
       "$\\displaystyle \\omega = \\dfrac{\\pi\\ .n}{30}\\newline\\ \\newline \\omega = \\dfrac{3.141592653589793\\times750}{30}\\newline\\ \\newline \\omega = \\dfrac{2356.194490192345}{30}\\newline\\ \\newline\\omega = 78.54\\ \\dfrac{\\text{rad}}{\\text{s}}\\newline\\ \\newline\\omega = 25.0\\ \\pi\\ \\dfrac{\\text{rad}}{\\text{s}}$"
      ],
      "text/plain": [
       "<IPython.core.display.Math object>"
      ]
     },
     "execution_count": 22,
     "metadata": {},
     "output_type": "execute_result"
    }
   ],
   "source": [
    "Math(rf'\\omega = \\dfrac{{\\pi\\ .n}}{{30}}\\newline\\ \\newline \\omega = \\dfrac{{{np.pi}\\times{n6}}}{{30}}\\newline\\ \\newline \\omega = \\dfrac{{{np.pi*n6}}}{{{30}}}\\newline\\ \\newline\\omega = {resultA61}\\ \\dfrac{{\\text{{rad}}}}{{\\text{{s}}}}\\newline\\ \\newline\\omega = {resultA62}\\ \\pi\\ \\dfrac{{\\text{{rad}}}}{{\\text{{s}}}}')"
   ]
  },
  {
   "cell_type": "markdown",
   "id": "bbb0d329",
   "metadata": {},
   "source": [
    "## b) Frequência ($f$)"
   ]
  },
  {
   "cell_type": "code",
   "execution_count": 23,
   "id": "b153fc96",
   "metadata": {},
   "outputs": [
    {
     "data": {
      "text/latex": [
       "$\\displaystyle f = \\dfrac{n}{60}\\newline\\ \\newline f = \\dfrac{750}{60}\\newline\\ \\newline f = 12.5\\text{ Hz}$"
      ],
      "text/plain": [
       "<IPython.core.display.Math object>"
      ]
     },
     "execution_count": 23,
     "metadata": {},
     "output_type": "execute_result"
    }
   ],
   "source": [
    "Math(rf'f = \\dfrac{{n}}{{60}}\\newline\\ \\newline f = \\dfrac{{{n6}}}{{{60}}}\\newline\\ \\newline f = {resultB6}\\text{{ Hz}}')"
   ]
  },
  {
   "cell_type": "markdown",
   "id": "7c6469f0",
   "metadata": {},
   "source": [
    "## c) Torque ($M_{t}$)"
   ]
  },
  {
   "cell_type": "code",
   "execution_count": 24,
   "id": "83b38190",
   "metadata": {},
   "outputs": [
    {
     "data": {
      "text/latex": [
       "$\\displaystyle Mt = Ft.r\\newline\\ \\newline Mt = 37000\\times0.03\\newline\\ \\newline Mt = 1110.0\\ \\text{Nm}$"
      ],
      "text/plain": [
       "<IPython.core.display.Math object>"
      ]
     },
     "execution_count": 24,
     "metadata": {},
     "output_type": "execute_result"
    }
   ],
   "source": [
    "Math(rf'Mt = Ft.r\\newline\\ \\newline Mt = {ft6}\\times{(d6/2)}\\newline\\ \\newline Mt = {resultC6}\\ \\text{{Nm}}')"
   ]
  },
  {
   "cell_type": "markdown",
   "id": "8ec90a6b",
   "metadata": {},
   "source": [
    "## d) Velocidade periférica ($vp$)"
   ]
  },
  {
   "cell_type": "code",
   "execution_count": 25,
   "id": "89a276de",
   "metadata": {},
   "outputs": [
    {
     "data": {
      "text/latex": [
       "$\\displaystyle vp = \\dfrac{\\pi\\ .r\\ .n}{30}\\newline\\ \\newline vp = \\dfrac{3.141592653589793\\times0.03\\times750}{30}\\newline\\ \\newline vp = \\dfrac{70.68583470577035}{30}\\newline\\ \\newline vp= 2.36\\ \\dfrac{\\text{m}}{\\text{s}}$"
      ],
      "text/plain": [
       "<IPython.core.display.Math object>"
      ]
     },
     "execution_count": 25,
     "metadata": {},
     "output_type": "execute_result"
    }
   ],
   "source": [
    "Math(rf'vp = \\dfrac{{\\pi\\ .r\\ .n}}{{30}}\\newline\\ \\newline vp = \\dfrac{{{np.pi}\\times{(d6/2)}\\times{(n6)}}}{{30}}\\newline\\ \\newline vp = \\dfrac{{{np.pi*(d6/2)*n6}}}{{{30}}}\\newline\\ \\newline vp= {resultD6}\\ \\dfrac{{\\text{{m}}}}{{\\text{{s}}}}')"
   ]
  },
  {
   "cell_type": "markdown",
   "id": "f33d648d",
   "metadata": {},
   "source": [
    "# Questão 7\n",
    "###\tDimensione um eixo-árvore para atuar com segurança em uma potência P = 10 cv, e rotação 21W0 RPM. A tensão admissível do material aplicado é $\\tau_{adm}$ = 5Z MPa. (10 pontos).\n"
   ]
  },
  {
   "cell_type": "code",
   "execution_count": 26,
   "id": "1af548e4",
   "metadata": {},
   "outputs": [],
   "source": [
    "dezenaT7 = 5\n",
    "unidadeT7 = Z\n",
    "milharN7 = 2\n",
    "centenaN7 = 1\n",
    "dezenaN7 = W\n",
    "unidadeN7 = 0\n",
    "t7 = (dezenaT7*10+unidadeT7*1)*1000000\n",
    "n7 = milharN7*1000+centenaN7*100+dezenaN7*10+unidadeN7*1\n",
    "d6 = 0.060\n",
    "p7 = 10*736\n",
    "result71 = round(3.65*((p7/(n7*t7))**(1/3)),5)\n",
    "result72 = round(((3.65*((p7/(n7*t7))**(1/3)))*1000),precision)"
   ]
  },
  {
   "cell_type": "code",
   "execution_count": 27,
   "id": "f30064d4",
   "metadata": {},
   "outputs": [
    {
     "data": {
      "text/latex": [
       "$\\displaystyle P\\text{$_\\text{w}$} = \\text{cv} . 736\\newline\\ \\newline P\\text{$_\\text{w}$} = 10\\times736\\newline\\ \\newline P\\text{$_\\text{w}$} = 7360\\ \\text{w}\\newline\\ \\newline \\tau\\text{$_\\text{adm}$} = 57000000\\ \\dfrac{\\text{N}}{\\text{m$^2$}}\\newline\\ \\newline d = 3,65\\sqrt[3]{\\dfrac{P}{n\\ .\\overline{\\tau}}}\\newline\\ \\newline d = 3,65\\sqrt[3]{\\dfrac{7360}{2150\\times57000000}}\\newline\\ \\newline d = 3,65\\sqrt[3]{\\dfrac{7360}{122550000000}}\\newline\\ \\newline d = 3,65\\sqrt[3]{6.005711954304365e-08}\\newline\\ \\newline d = 3,65\\times{0.003916109555214293}\\newline\\ \\newline d = 0.01429\\text{ m}\\newline\\ \\newline d = 14.29\\text{ mm}$"
      ],
      "text/plain": [
       "<IPython.core.display.Math object>"
      ]
     },
     "execution_count": 27,
     "metadata": {},
     "output_type": "execute_result"
    }
   ],
   "source": [
    "Math(rf'P\\text{{$_\\text{{w}}$}} = \\text{{cv}} . 736\\newline\\ \\newline P\\text{{$_\\text{{w}}$}} = {10}\\times{(736)}\\newline\\ \\newline P\\text{{$_\\text{{w}}$}} = {10*736}\\ \\text{{w}}\\newline\\ \\newline \\tau\\text{{$_\\text{{adm}}$}} = {t7}\\ \\dfrac{{\\text{{N}}}}{{\\text{{m$^2$}}}}\\newline\\ \\newline d = 3,65\\sqrt[3]{{\\dfrac{{P}}{{n\\ .\\overline{{\\tau}}}}}}\\newline\\ \\newline d = 3,65\\sqrt[3]{{\\dfrac{{{p7}}}{{{n7}\\times{t7}}}}}\\newline\\ \\newline d = 3,65\\sqrt[3]{{\\dfrac{{{p7}}}{{{n7*t7}}}}}\\newline\\ \\newline d = 3,65\\sqrt[3]{{{p7/(n7*t7)}}}\\newline\\ \\newline d = 3,65\\times{{{((p7/(n7*t7))**(1/3))}}}\\newline\\ \\newline d = {result71}\\text{{ m}}\\newline\\ \\newline d = {result72}\\text{{ mm}}')"
   ]
  },
  {
   "cell_type": "code",
   "execution_count": null,
   "id": "4bda9df2",
   "metadata": {},
   "outputs": [],
   "source": []
  }
 ],
 "metadata": {
  "kernelspec": {
   "display_name": "Python 3 (ipykernel)",
   "language": "python",
   "name": "python3"
  },
  "language_info": {
   "codemirror_mode": {
    "name": "ipython",
    "version": 3
   },
   "file_extension": ".py",
   "mimetype": "text/x-python",
   "name": "python",
   "nbconvert_exporter": "python",
   "pygments_lexer": "ipython3",
   "version": "3.7.13"
  }
 },
 "nbformat": 4,
 "nbformat_minor": 5
}
