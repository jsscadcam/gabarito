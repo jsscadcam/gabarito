{
 "cells": [
  {
   "cell_type": "code",
   "execution_count": 1,
   "id": "6772a106",
   "metadata": {},
   "outputs": [
    {
     "name": "stdout",
     "output_type": "stream",
     "text": [
      "Requirement already satisfied: numpy in /data/user/0/ru.iiec.pydroid3/files/aarch64-linux-android/lib/python3.11/site-packages (1.26.1)\n",
      "\n",
      "\u001b[1m[\u001b[0m\u001b[34;49mnotice\u001b[0m\u001b[1;39;49m]\u001b[0m\u001b[39;49m A new release of pip is available: \u001b[0m\u001b[31;49m23.2.1\u001b[0m\u001b[39;49m -> \u001b[0m\u001b[32;49m24.0\u001b[0m\n",
      "\u001b[1m[\u001b[0m\u001b[34;49mnotice\u001b[0m\u001b[1;39;49m]\u001b[0m\u001b[39;49m To update, run: \u001b[0m\u001b[32;49mpip install --upgrade pip\u001b[0m\n",
      "Note: you may need to restart the kernel to use updated packages.\n"
     ]
    }
   ],
   "source": [
    "pip install numpy"
   ]
  },
  {
   "cell_type": "code",
   "execution_count": 2,
   "id": "1d73a4ae",
   "metadata": {},
   "outputs": [
    {
     "data": {
      "text/html": [
       "<script>$(\"div.input\").hide()</script>"
      ],
      "text/plain": [
       "<IPython.core.display.HTML object>"
      ]
     },
     "metadata": {},
     "output_type": "display_data"
    },
    {
     "data": {
      "application/vnd.jupyter.widget-view+json": {
       "model_id": "0a0642f63196430b89a3ae703a1c67d7",
       "version_major": 2,
       "version_minor": 0
      },
      "text/plain": [
       "ToggleButton(value=False, description='Show code')"
      ]
     },
     "metadata": {},
     "output_type": "display_data"
    }
   ],
   "source": [
    "\n",
    "import ipywidgets as widgets\n",
    "from IPython.display import display, HTML\n",
    "\n",
    "javascript_functions = {False: \"hide()\", True: \"show()\"}\n",
    "button_descriptions  = {False: \"Show code\", True: \"Hide code\"}\n",
    "\n",
    "\n",
    "def toggle_code(state):\n",
    "\n",
    "    \"\"\"\n",
    "    Toggles the JavaScript show()/hide() function on the div.input element.\n",
    "    \"\"\"\n",
    "\n",
    "    output_string = \"<script>$(\\\"div.input\\\").{}</script>\"\n",
    "    output_args   = (javascript_functions[state],)\n",
    "    output        = output_string.format(*output_args)\n",
    "\n",
    "    display(HTML(output))\n",
    "\n",
    "\n",
    "def button_action(value):\n",
    "\n",
    "    \"\"\"\n",
    "    Calls the toggle_code function and updates the button description.\n",
    "    \"\"\"\n",
    "\n",
    "    state = value.new\n",
    "\n",
    "    toggle_code(state)\n",
    "\n",
    "    value.owner.description = button_descriptions[state]\n",
    "\n",
    "\n",
    "state = False\n",
    "toggle_code(state)\n",
    "\n",
    "button = widgets.ToggleButton(state, description = button_descriptions[state])\n",
    "button.observe(button_action, \"value\")\n",
    "\n",
    "display(button)"
   ]
  },
  {
   "cell_type": "code",
   "execution_count": 3,
   "id": "e1b8ffc9",
   "metadata": {},
   "outputs": [],
   "source": [
    "import numpy as np\n",
    "import time\n",
    "from IPython.display import Math\n",
    "from IPython.display import display\n",
    "\n",
    "precision = 2"
   ]
  },
  {
   "cell_type": "code",
   "execution_count": 4,
   "id": "954a06fe",
   "metadata": {},
   "outputs": [
    {
     "name": "stdin",
     "output_type": "stream",
     "text": [
      "Digite o penúltimo número da matrícula (W):  6\n",
      "Digite o último número da matrícula (Z):  4\n"
     ]
    }
   ],
   "source": [
    "W = int(input(\"Digite o penúltimo número da matrícula (W): \"))\n",
    "Z = int(input(\"Digite o último número da matrícula (Z): \"))"
   ]
  },
  {
   "cell_type": "markdown",
   "id": "26a36dcf",
   "metadata": {},
   "source": [
    "# Questão 1\n",
    "### Calcule as reações de apoio. O W é o penúltimo algarismo da matrícula, e o Z o último algarismo. (10 pontos)"
   ]
  },
  {
   "cell_type": "code",
   "execution_count": 5,
   "id": "1b4a1419",
   "metadata": {},
   "outputs": [],
   "source": [
    "# Bloco questão 1\n",
    "centenaF1 = 3\n",
    "dezenaF1 = 5\n",
    "centenaF2 = 4\n",
    "dezenaF2 = 8\n",
    "\n",
    "L1_1 = 2\n",
    "L1_2 = 1\n",
    "L1_3 = 1\n",
    "Lt1 = L1_1+L1_2+L1_3\n",
    "\n",
    "F1 = W*1000+centenaF1*100+dezenaF1*10+Z*1\n",
    "F2 = W*1000+centenaF2*100+dezenaF2*10+Z*1\n",
    "Ft1 = F1+F2\n",
    "RB1 = round(((F1*L1_1)+F2*(L1_1+L1_2))/Lt1,precision)\n",
    "RA1 = round(Ft1-RB1,precision)"
   ]
  },
  {
   "cell_type": "code",
   "execution_count": 6,
   "id": "3885a6a8",
   "metadata": {},
   "outputs": [
    {
     "data": {
      "text/latex": [
       "$\\displaystyle \\sum \\text{  MA = 0} \\circlearrowleft + \\newline\\ \\newline - 6354 \\times 2 - 6484 \\times 3 + \\text{RB} \\times 4 = 0\\newline\\ \\newline - 12708 - 19452 + 4\\text{RB} = 0\\newline\\ \\newline 4\\text{RB} = 12708 + 19452\\newline\\ \\newline 4\\text{RB} = 32160\\newline\\ \\newline \\text{RB} =\\dfrac{32160}4\\newline\\ \\newline \\text{RB} = 8040.0\\text{ N}$"
      ],
      "text/plain": [
       "<IPython.core.display.Math object>"
      ]
     },
     "execution_count": 6,
     "metadata": {},
     "output_type": "execute_result"
    }
   ],
   "source": [
    "Math(rf'\\sum \\text{{  MA = 0}} \\circlearrowleft + \\newline\\ \\newline - {F1} \\times {L1_1} - {F2} \\times {L1_1+L1_2} + \\text{{RB}} \\times {Lt1} = {0}\\newline\\ \\newline - {F1*L1_1} - {F2*(L1_1+L1_2)} + {Lt1}\\text{{RB}} = {0}\\newline\\ \\newline {Lt1}\\text{{RB}} = {F1*L1_1} + {F2*(L1_1+L1_2)}\\newline\\ \\newline {Lt1}\\text{{RB}} = {(F1*L1_1)+F2*(L1_1+L1_2)}\\newline\\ \\newline \\text{{RB}} =\\dfrac{{{(F1*L1_1)+F2*(L1_1+L1_2)}}}{Lt1}\\newline\\ \\newline \\text{{RB}} = {RB1}\\text{{ N}}')"
   ]
  },
  {
   "cell_type": "code",
   "execution_count": 7,
   "id": "57078f27",
   "metadata": {
    "scrolled": true
   },
   "outputs": [
    {
     "data": {
      "text/latex": [
       "$\\displaystyle \\sum \\text{ Fy = 0} \\uparrow +\\newline\\ \\newline \\text{RA + RB}- 6354 - 6484 = 0\\newline\\ \\newline \\text{RA + RB} = 6354 + 6484\\newline\\ \\newline \\text{RA + RB} = 12838 \\newline\\ \\newline \\text{RA} + 8040.0 = 12838\\newline\\ \\newline \\text{RA} = 12838 - 8040.0 \\newline\\ \\newline \\text{RA} = 4798.0\\text{ N} $"
      ],
      "text/plain": [
       "<IPython.core.display.Math object>"
      ]
     },
     "execution_count": 7,
     "metadata": {},
     "output_type": "execute_result"
    }
   ],
   "source": [
    "Math(rf'\\sum \\text{{ Fy = 0}} \\uparrow +\\newline\\ \\newline \\text{{RA + RB}}- {F1} - {F2} = {0}\\newline\\ \\newline \\text{{RA + RB}} = {F1} + {F2}\\newline\\ \\newline \\text{{RA + RB}} = {Ft1} \\newline\\ \\newline \\text{{RA}} + {RB1} = {Ft1}\\newline\\ \\newline \\text{{RA}} = {Ft1} - {RB1} \\newline\\ \\newline \\text{{RA}} = {RA1}\\text{{ N}} ')"
   ]
  },
  {
   "cell_type": "markdown",
   "id": "e45f2e35",
   "metadata": {},
   "source": [
    "# Questão 2\n",
    "### Calcule o momento fletor nos pontos onde as forças estão aplicadas. O W é o penúltimo algarismo da matrícula, e o Z o último algarismo. (25 pontos)"
   ]
  },
  {
   "cell_type": "code",
   "execution_count": 8,
   "id": "edf310fc",
   "metadata": {},
   "outputs": [],
   "source": [
    "# Bloco questão 2\n",
    "milharF3 = 6\n",
    "centenaF3 = 0\n",
    "unidadeF3 = 0\n",
    "milharF4 = 4\n",
    "dezenaF4 = 0\n",
    "unidadeF4 = 0\n",
    "L2_1 = 1\n",
    "L2_2 = 3\n",
    "L2_3 = 2\n",
    "Lt2 = L2_1+L2_2+L2_3\n",
    "\n",
    "F3 = milharF3*1000+centenaF3*100+W*10+unidadeF3*1\n",
    "F4 = milharF4*1000+Z*100+dezenaF4*10+unidadeF4*1\n",
    "Ft2 = F3+F4\n",
    "RB2 = round(((F3*L2_1)+F4*(L2_1+L2_2))/Lt2,precision)\n",
    "RA2 = round(Ft2-RB2,precision)"
   ]
  },
  {
   "cell_type": "code",
   "execution_count": 9,
   "id": "fd1e9c23",
   "metadata": {},
   "outputs": [
    {
     "data": {
      "text/latex": [
       "$\\displaystyle \\sum \\text{  MA = 0} \\circlearrowleft +\\newline\\ \\newline - 6060 \\times 1 - 4400 \\times 4 + \\text{RB} \\times 6 = 0\\newline\\ \\newline - 6060 - 17600 + 6\\text{RB} = 0\\newline\\ \\newline 6\\text{RB} = 6060 + 17600\\newline\\ \\newline 6\\text{RB} = 23660\\newline\\ \\newline \\text{RB} =\\dfrac{23660}6\\newline\\ \\newline \\text{RB} = 3943.33\\text{ N}$"
      ],
      "text/plain": [
       "<IPython.core.display.Math object>"
      ]
     },
     "execution_count": 9,
     "metadata": {},
     "output_type": "execute_result"
    }
   ],
   "source": [
    "Math(rf'\\sum \\text{{  MA = 0}} \\circlearrowleft +\\newline\\ \\newline - {F3} \\times {L2_1} - {F4} \\times {L2_1+L2_2} + \\text{{RB}} \\times {Lt2} = {0}\\newline\\ \\newline - {F3*L2_1} - {F4*(L2_1+L2_2)} + {Lt2}\\text{{RB}} = {0}\\newline\\ \\newline {Lt2}\\text{{RB}} = {F3*L2_1} + {F4*(L2_1+L2_2)}\\newline\\ \\newline {Lt2}\\text{{RB}} = {(F3*L2_1)+F4*(L2_1+L2_2)}\\newline\\ \\newline \\text{{RB}} =\\dfrac{{{(F3*L2_1)+F4*(L2_1+L2_2)}}}{Lt2}\\newline\\ \\newline \\text{{RB}} = {RB2}\\text{{ N}}')"
   ]
  },
  {
   "cell_type": "code",
   "execution_count": 10,
   "id": "fabaf965",
   "metadata": {
    "scrolled": true
   },
   "outputs": [
    {
     "data": {
      "text/latex": [
       "$\\displaystyle \\sum \\text{ Fy = 0} \\uparrow + \\newline\\ \\newline \\text{RA + RB}- 6060 - 4400 = 0\\newline\\ \\newline \\text{RA + RB} = 6060 + 4400\\newline\\ \\newline \\text{RA + RB} = 10460 \\newline\\ \\newline \\text{RA} + 3943.33 = 10460\\newline\\ \\newline \\text{RA} = 10460 - 3943.33 \\newline\\ \\newline \\text{RA} = 6516.67\\text{ N} $"
      ],
      "text/plain": [
       "<IPython.core.display.Math object>"
      ]
     },
     "execution_count": 10,
     "metadata": {},
     "output_type": "execute_result"
    }
   ],
   "source": [
    "Math(rf'\\sum \\text{{ Fy = 0}} \\uparrow + \\newline\\ \\newline \\text{{RA + RB}}- {F3} - {F4} = {0}\\newline\\ \\newline \\text{{RA + RB}} = {F3} + {F4}\\newline\\ \\newline \\text{{RA + RB}} = {Ft2} \\newline\\ \\newline \\text{{RA}} + {RB2} = {Ft2}\\newline\\ \\newline \\text{{RA}} = {Ft2} - {RB2} \\newline\\ \\newline \\text{{RA}} = {RA2}\\text{{ N}} ')"
   ]
  },
  {
   "cell_type": "code",
   "execution_count": 11,
   "id": "7aed3c76",
   "metadata": {},
   "outputs": [
    {
     "data": {
      "text/latex": [
       "$\\displaystyle {\\underline{\\text{$0\\ $m < x < $1\\ $m}}}$"
      ],
      "text/plain": [
       "<IPython.core.display.Math object>"
      ]
     },
     "execution_count": 11,
     "metadata": {},
     "output_type": "execute_result"
    }
   ],
   "source": [
    "Math(rf'{{\\underline{{\\text{{$0\\ $m < x < ${L2_1}\\ $m}}}}}}')"
   ]
  },
  {
   "cell_type": "code",
   "execution_count": 12,
   "id": "550a93ee",
   "metadata": {
    "scrolled": true
   },
   "outputs": [
    {
     "data": {
      "text/latex": [
       "$\\displaystyle \\textbf{Mf = - RA . x}$"
      ],
      "text/plain": [
       "<IPython.core.display.Math object>"
      ]
     },
     "execution_count": 12,
     "metadata": {},
     "output_type": "execute_result"
    }
   ],
   "source": [
    "Math(rf'\\textbf{{Mf = - RA . x}}')"
   ]
  },
  {
   "cell_type": "code",
   "execution_count": 13,
   "id": "162547c4",
   "metadata": {
    "scrolled": true
   },
   "outputs": [
    {
     "data": {
      "text/latex": [
       "$\\displaystyle {\\underline{\\text{$1\\ $m < x < $4\\ $m}}}$"
      ],
      "text/plain": [
       "<IPython.core.display.Math object>"
      ]
     },
     "execution_count": 13,
     "metadata": {},
     "output_type": "execute_result"
    }
   ],
   "source": [
    "Math(rf'{{\\underline{{\\text{{${L2_1}\\ $m < x < ${L2_1+L2_2}\\ $m}}}}}}')"
   ]
  },
  {
   "cell_type": "code",
   "execution_count": 14,
   "id": "3c569ab2",
   "metadata": {},
   "outputs": [
    {
     "data": {
      "text/latex": [
       "$\\displaystyle \\textbf{Mf = - RA . x + 6060 . (x - 1)}$"
      ],
      "text/plain": [
       "<IPython.core.display.Math object>"
      ]
     },
     "execution_count": 14,
     "metadata": {},
     "output_type": "execute_result"
    }
   ],
   "source": [
    "Math(rf'\\textbf{{Mf = - RA . x + {F3} . (x - {L2_1})}}')"
   ]
  },
  {
   "cell_type": "code",
   "execution_count": 15,
   "id": "a3cd3412",
   "metadata": {},
   "outputs": [
    {
     "data": {
      "text/latex": [
       "$\\displaystyle {\\underline{\\text{$4\\ $m < x < $6\\ $m}}}$"
      ],
      "text/plain": [
       "<IPython.core.display.Math object>"
      ]
     },
     "execution_count": 15,
     "metadata": {},
     "output_type": "execute_result"
    }
   ],
   "source": [
    "Math(rf'{{\\underline{{\\text{{${L2_1+L2_2}\\ $m < x < ${L2_1+L2_2+L2_3}\\ $m}}}}}}')"
   ]
  },
  {
   "cell_type": "code",
   "execution_count": 16,
   "id": "4767b8ce",
   "metadata": {},
   "outputs": [
    {
     "data": {
      "text/latex": [
       "$\\displaystyle \\textbf{Mf = - RA . x + 6060 . (x - 1) + 4400 . (x - 4)}$"
      ],
      "text/plain": [
       "<IPython.core.display.Math object>"
      ]
     },
     "execution_count": 16,
     "metadata": {},
     "output_type": "execute_result"
    }
   ],
   "source": [
    "Math(rf'\\textbf{{Mf = - RA . x + {F3} . (x - {L2_1}) + {F4} . (x - {L2_1+L2_2})}}')"
   ]
  },
  {
   "cell_type": "code",
   "execution_count": 17,
   "id": "00423531",
   "metadata": {},
   "outputs": [
    {
     "data": {
      "text/latex": [
       "$\\displaystyle {\\underline{\\text{Mf em x = 1 m}}}$"
      ],
      "text/plain": [
       "<IPython.core.display.Math object>"
      ]
     },
     "execution_count": 17,
     "metadata": {},
     "output_type": "execute_result"
    }
   ],
   "source": [
    "Math(rf'{{\\underline{{\\text{{Mf em x = {L2_1} m}}}}}}')"
   ]
  },
  {
   "cell_type": "code",
   "execution_count": 18,
   "id": "f3b32719",
   "metadata": {},
   "outputs": [
    {
     "data": {
      "text/latex": [
       "$\\displaystyle Mf_{1m} = -6516.67 \\text{ Nm}$"
      ],
      "text/plain": [
       "<IPython.core.display.Math object>"
      ]
     },
     "execution_count": 18,
     "metadata": {},
     "output_type": "execute_result"
    }
   ],
   "source": [
    "Math(rf'Mf_{{{L2_1}m}} = {-RA2*L2_1} \\text{{ Nm}}')"
   ]
  },
  {
   "cell_type": "code",
   "execution_count": 19,
   "id": "e8c03285",
   "metadata": {},
   "outputs": [
    {
     "data": {
      "text/latex": [
       "$\\displaystyle {\\underline{\\text{Mf em x = 4 m}}}$"
      ],
      "text/plain": [
       "<IPython.core.display.Math object>"
      ]
     },
     "execution_count": 19,
     "metadata": {},
     "output_type": "execute_result"
    }
   ],
   "source": [
    "Math(rf'{{\\underline{{\\text{{Mf em x = {L2_1+L2_2} m}}}}}}')"
   ]
  },
  {
   "cell_type": "code",
   "execution_count": 20,
   "id": "07f5d340",
   "metadata": {
    "scrolled": true
   },
   "outputs": [
    {
     "data": {
      "text/latex": [
       "$\\displaystyle Mf_{4m} = -7886.68 \\text{ Nm}$"
      ],
      "text/plain": [
       "<IPython.core.display.Math object>"
      ]
     },
     "execution_count": 20,
     "metadata": {},
     "output_type": "execute_result"
    }
   ],
   "source": [
    "Math(rf'Mf_{{{L2_1+L2_2}m}} = {(-RA2*(L2_1+L2_2))+(F3*((L2_1+L2_2)-L2_1))} \\text{{ Nm}}')"
   ]
  },
  {
   "cell_type": "markdown",
   "id": "24d43ed0",
   "metadata": {},
   "source": [
    "# Questão 3\n",
    "### Selecione uma viga para atuar com segurança sabendo que o momento fletor máximo atuante é Mf = 4500 Nm, e a tensão de escoamento do material é $\\sigma_{e}$ = 315 Mpa. Adote coeficiente de segurança K = 3. (25 pontos)"
   ]
  },
  {
   "cell_type": "code",
   "execution_count": 21,
   "id": "ea8ecaf6",
   "metadata": {},
   "outputs": [],
   "source": [
    "# Bloco questão 3\n",
    "sigmaE = 315\n",
    "K3 = 3\n",
    "sigmaAdm = sigmaE/K3\n",
    "mf3 = 4500\n",
    "W3mm = round((mf3*1000)/sigmaAdm,2)\n",
    "W3cm = round(W3mm/1000,2)"
   ]
  },
  {
   "cell_type": "code",
   "execution_count": 22,
   "id": "6a267002",
   "metadata": {},
   "outputs": [
    {
     "data": {
      "text/latex": [
       "$\\displaystyle {\\large\\sigma_{adm}} = {\\large\\dfrac{\\sigma_e}{k}}\\newline\\ \\newline {\\large\\sigma_{adm}} = \\dfrac{315}{3}\\newline\\ \\newline {\\large\\sigma_{adm}} = 105.0\\ \\dfrac{\\text{N}}{\\text{mm$^2$}}\\newline\\ \\newline Mf = 4500 \\text{ Nm}\\newline\\ \\newline Mf = 4500000 \\text{ Nmm}\\newline\\ \\newline W = \\dfrac{\\text{Mf}}{{\\large\\text{$\\sigma_{adm}$}}}\\newline\\ \\newline W = \\dfrac{4500000}{105.0}\\newline\\ \\newline W = 42857.14\\text{ mm$^3$}\\newline\\ \\newline W = 42.86\\text{ cm$^3$}$"
      ],
      "text/plain": [
       "<IPython.core.display.Math object>"
      ]
     },
     "execution_count": 22,
     "metadata": {},
     "output_type": "execute_result"
    }
   ],
   "source": [
    "Math(rf'{{\\large\\sigma_{{adm}}}} = {{\\large\\dfrac{{\\sigma_e}}{{k}}}}\\newline\\ \\newline {{\\large\\sigma_{{adm}}}} = \\dfrac{{{sigmaE}}}{{{K3}}}\\newline\\ \\newline {{\\large\\sigma_{{adm}}}} = {sigmaE/K3}\\ \\dfrac{{\\text{{N}}}}{{\\text{{mm$^2$}}}}\\newline\\ \\newline Mf = {mf3} \\text{{ Nm}}\\newline\\ \\newline Mf = {mf3*1000} \\text{{ Nmm}}\\newline\\ \\newline W = \\dfrac{{\\text{{Mf}}}}{{{{\\large\\text{{$\\sigma_{{adm}}$}}}}}}\\newline\\ \\newline W = \\dfrac{{{mf3*1000}}}{{{sigmaAdm}}}\\newline\\ \\newline W = {W3mm}\\text{{ mm$^3$}}\\newline\\ \\newline W = {W3cm}\\text{{ cm$^3$}}')"
   ]
  },
  {
   "cell_type": "markdown",
   "id": "c7683bef",
   "metadata": {},
   "source": [
    "# Questão 4\n",
    "### \tUm eixo-árvore com diâmetro igual a 60 mm transmite uma potência de 7W kw a uma frequência de 4Z Hz. Determine: (10 pontos)"
   ]
  },
  {
   "cell_type": "code",
   "execution_count": 23,
   "id": "44711dc7",
   "metadata": {},
   "outputs": [],
   "source": [
    "# Bloco questão 4\n",
    "dezenaP4 = 7\n",
    "unidadeP4 = W\n",
    "dezenaf4 = 4\n",
    "unidadef4 = Z\n",
    "P4 = (dezenaP4*10+unidadeP4*1)*1000\n",
    "f4 = dezenaf4*10+unidadef4*1\n",
    "n4 = 60*f4\n",
    "mt4 = (30*P4)/(np.pi*n4)\n",
    "d4 = 0.060\n",
    "resultA4 = round(2*np.pi*f4,precision)\n",
    "resultB4 = round(60*f4,precision)\n",
    "resultC4 = round((30*P4)/(np.pi*n4),precision)\n",
    "resultD41 = round((16*mt4)/(np.pi*d4*d4*d4),precision)\n",
    "resultD42 = round(((16*mt4)/(np.pi*d4*d4*d4))/1000000,precision)"
   ]
  },
  {
   "cell_type": "markdown",
   "id": "e0794cc3",
   "metadata": {},
   "source": [
    "## a) Velocidade angular ($\\omega$)"
   ]
  },
  {
   "cell_type": "code",
   "execution_count": 24,
   "id": "ef2cf0fc",
   "metadata": {},
   "outputs": [
    {
     "data": {
      "text/latex": [
       "$\\displaystyle \\omega = \\text{2}.\\pi.f\\newline\\ \\ \\omega = \\text{2}\\times\\pi\\times44\\newline \\omega = 276.46\\ \\dfrac{\\text{rad}}{\\text{s}}$"
      ],
      "text/plain": [
       "<IPython.core.display.Math object>"
      ]
     },
     "execution_count": 24,
     "metadata": {},
     "output_type": "execute_result"
    }
   ],
   "source": [
    "Math(rf'\\omega = \\text{{2}}.\\pi.f\\newline\\ \\ \\omega = \\text{{2}}\\times\\pi\\times{f4}\\newline \\omega = {resultA4}\\ \\dfrac{{\\text{{rad}}}}{{\\text{{s}}}}')"
   ]
  },
  {
   "cell_type": "markdown",
   "id": "01d6b4c0",
   "metadata": {},
   "source": [
    "## b) Rotação ($rpm$)"
   ]
  },
  {
   "cell_type": "code",
   "execution_count": 25,
   "id": "a2e59eff",
   "metadata": {},
   "outputs": [
    {
     "data": {
      "text/latex": [
       "$\\displaystyle n = 60\\ .f\\newline\\ \\newline n = \\text{60}*44\\newline\\ \\newline n = 2640\\text{ rpm}$"
      ],
      "text/plain": [
       "<IPython.core.display.Math object>"
      ]
     },
     "execution_count": 25,
     "metadata": {},
     "output_type": "execute_result"
    }
   ],
   "source": [
    "Math(rf'n = 60\\ .f\\newline\\ \\newline n = \\text{{60}}*{f4}\\newline\\ \\newline n = {resultB4}\\text{{ rpm}}')"
   ]
  },
  {
   "cell_type": "markdown",
   "id": "d9fec9f4",
   "metadata": {},
   "source": [
    "## c) Torque ($M_{t}$)"
   ]
  },
  {
   "cell_type": "code",
   "execution_count": 26,
   "id": "1bda5e62",
   "metadata": {},
   "outputs": [
    {
     "data": {
      "text/latex": [
       "$\\displaystyle Mt = \\dfrac{30P}{\\pi\\ n}\\newline Mt = \\dfrac{30\\times76000}{3.141592653589793\\times2640}\\newline\\ \\newline Mt = \\dfrac{2280000}{8293.804605477053}\\newline\\ \\newline Mt = 274.9\\text{ Nm}$"
      ],
      "text/plain": [
       "<IPython.core.display.Math object>"
      ]
     },
     "execution_count": 26,
     "metadata": {},
     "output_type": "execute_result"
    }
   ],
   "source": [
    "Math(rf'Mt = \\dfrac{{30P}}{{\\pi\\ n}}\\newline Mt = \\dfrac{{{30}\\times{P4}}}{{{np.pi}\\times{n4}}}\\newline\\ \\newline Mt = \\dfrac{{{30*P4}}}{{{np.pi*n4}}}\\newline\\ \\newline Mt = {resultC4}\\text{{ Nm}}')"
   ]
  },
  {
   "cell_type": "markdown",
   "id": "15f8dafb",
   "metadata": {},
   "source": [
    "## d) Tensão Máxima ($\\tau_{max}$)"
   ]
  },
  {
   "cell_type": "code",
   "execution_count": 27,
   "id": "a25f4ae7",
   "metadata": {
    "scrolled": true
   },
   "outputs": [
    {
     "data": {
      "text/latex": [
       "$\\displaystyle \\tau = \\dfrac{16Mt}{\\pi\\ d^3}\\newline\\ \\newline \\tau = \\dfrac{16\\times274.90399261327383}{3.141592653589793\\times0.000216}\\newline\\ \\newline \\tau = \\dfrac{4398.463881812381}{0.0006785840131753952}\\newline\\ \\newline\\tau = 6481826.56\\ \\dfrac{\\text{N}}{\\text{m$^2$}}\\newline\\ \\newline\\tau = 6.48\\ \\dfrac{\\text{N}}{\\text{mm$^2$}}$"
      ],
      "text/plain": [
       "<IPython.core.display.Math object>"
      ]
     },
     "execution_count": 27,
     "metadata": {},
     "output_type": "execute_result"
    }
   ],
   "source": [
    "Math(rf'\\tau = \\dfrac{{16Mt}}{{\\pi\\ d^3}}\\newline\\ \\newline \\tau = \\dfrac{{{16}\\times{mt4}}}{{{np.pi}\\times{d4*d4*d4}}}\\newline\\ \\newline \\tau = \\dfrac{{{16*mt4}}}{{{np.pi*d4*d4*d4}}}\\newline\\ \\newline\\tau = {resultD41}\\ \\dfrac{{\\text{{N}}}}{{\\text{{m$^2$}}}}\\newline\\ \\newline\\tau = {resultD42}\\ \\dfrac{{\\text{{N}}}}{{\\text{{mm$^2$}}}}')"
   ]
  },
  {
   "cell_type": "markdown",
   "id": "2dbf9972",
   "metadata": {},
   "source": [
    "# Questão 5\n",
    "### \tO eixo-árvore representado abaixo possui diâmetro d = 65 mm, e gira com velocidade angular $\\omega$ = 3W $\\pi$ rad/s, transmitindo um torque M$_{T}$ = 3Z0 Nm. Determine: (10 pontos)"
   ]
  },
  {
   "cell_type": "code",
   "execution_count": 28,
   "id": "2a61640e",
   "metadata": {},
   "outputs": [],
   "source": [
    "# Bloco questão 5\n",
    "dezenaW5 = 3\n",
    "unidadeW5 = W\n",
    "centenaMt5 = 3\n",
    "dezenaMt5 = Z\n",
    "unidadeMt5 = 0\n",
    "W5 = (dezenaW5*10+unidadeW5*1)*np.pi\n",
    "mt5 = centenaMt5*100+dezenaMt5*10+unidadeMt5*1\n",
    "d5 = 0.065\n",
    "ft5 = mt5/(d5/2)\n",
    "vp5 = W5*(d5/2)\n",
    "resultA5 = round(W5*(d5/2),precision)\n",
    "resultB5 = round((mt5)/(d5/2),precision)\n",
    "resultC5 = round(((16*mt5)/(np.pi*d5*d5*d5))/1000000,precision)\n",
    "resultD5 = round(mt5*W5,precision) "
   ]
  },
  {
   "cell_type": "markdown",
   "id": "e2335a79",
   "metadata": {},
   "source": [
    "## a) Velocidade periférica ($vp$)"
   ]
  },
  {
   "cell_type": "code",
   "execution_count": 29,
   "id": "e05bd550",
   "metadata": {},
   "outputs": [
    {
     "data": {
      "text/latex": [
       "$\\displaystyle vp = \\omega.r\\newline \\ vp = 113.09733552923255\\times0.0325\\newline vp = 3.68\\ \\dfrac{\\text{m}}{\\text{s}}$"
      ],
      "text/plain": [
       "<IPython.core.display.Math object>"
      ]
     },
     "execution_count": 29,
     "metadata": {},
     "output_type": "execute_result"
    }
   ],
   "source": [
    "Math(rf'vp = \\omega.r\\newline \\ vp = {W5}\\times{d5/2}\\newline vp = {resultA5}\\ \\dfrac{{\\text{{m}}}}{{\\text{{s}}}}')"
   ]
  },
  {
   "cell_type": "markdown",
   "id": "17b1ab48",
   "metadata": {},
   "source": [
    "## b) Força tangencial ($F_{t}$)"
   ]
  },
  {
   "cell_type": "code",
   "execution_count": 30,
   "id": "03679dbd",
   "metadata": {},
   "outputs": [
    {
     "data": {
      "text/latex": [
       "$\\displaystyle Ft = \\dfrac{Mt}{ r}\\newline\\ \\newline Ft = \\dfrac{340}{0.0325}\\newline\\ \\newline Ft = 10461.54\\text{ N} $"
      ],
      "text/plain": [
       "<IPython.core.display.Math object>"
      ]
     },
     "execution_count": 30,
     "metadata": {},
     "output_type": "execute_result"
    }
   ],
   "source": [
    "Math(rf'Ft = \\dfrac{{Mt}}{{ r}}\\newline\\ \\newline Ft = \\dfrac{{{mt5}}}{{{d5/2}}}\\newline\\ \\newline Ft = {resultB5}\\text{{ N}} ')"
   ]
  },
  {
   "cell_type": "markdown",
   "id": "ecc903e9",
   "metadata": {},
   "source": [
    "## c) Tensão Máxima ($\\tau_{max}$)"
   ]
  },
  {
   "cell_type": "code",
   "execution_count": 31,
   "id": "82e2a1a0",
   "metadata": {},
   "outputs": [
    {
     "data": {
      "text/latex": [
       "$\\displaystyle \\tau = \\dfrac{16Mt}{\\pi\\ d^3}\\newline\\ \\newline \\tau = \\dfrac{16\\times340}{3.141592653589793\\times0.000274625}\\newline\\ \\newline \\tau = \\dfrac{5440}{0.000862759882492097}\\newline\\ \\newline\\tau = 6305346.49372716\\ \\dfrac{\\text{N}}{\\text{m$^2$}}\\newline\\ \\newline\\tau = 6.31\\ \\dfrac{\\text{N}}{\\text{mm$^2$}}$"
      ],
      "text/plain": [
       "<IPython.core.display.Math object>"
      ]
     },
     "execution_count": 31,
     "metadata": {},
     "output_type": "execute_result"
    }
   ],
   "source": [
    "Math(rf'\\tau = \\dfrac{{16Mt}}{{\\pi\\ d^3}}\\newline\\ \\newline \\tau = \\dfrac{{{16}\\times{mt5}}}{{{np.pi}\\times{d5*d5*d5}}}\\newline\\ \\newline \\tau = \\dfrac{{{16*mt5}}}{{{np.pi*d5*d5*d5}}}\\newline\\ \\newline\\tau = {(16*mt5)/(np.pi*d5*d5*d5)}\\ \\dfrac{{\\text{{N}}}}{{\\text{{m$^2$}}}}\\newline\\ \\newline\\tau = {resultC5}\\ \\dfrac{{\\text{{N}}}}{{\\text{{mm$^2$}}}}')"
   ]
  },
  {
   "cell_type": "markdown",
   "id": "9dcdc982",
   "metadata": {},
   "source": [
    "## d) Potência ($P$)"
   ]
  },
  {
   "cell_type": "code",
   "execution_count": 32,
   "id": "52c655ec",
   "metadata": {},
   "outputs": [
    {
     "data": {
      "text/latex": [
       "$\\displaystyle P = Mt.\\omega\\newline\\ \\newline P = 340\\times113.09733552923255\\newline\\ \\newline P = 38453.09\\ \\text{w}$"
      ],
      "text/plain": [
       "<IPython.core.display.Math object>"
      ]
     },
     "execution_count": 32,
     "metadata": {},
     "output_type": "execute_result"
    }
   ],
   "source": [
    "Math(rf'P = Mt.\\omega\\newline\\ \\newline P = {mt5}\\times{W5}\\newline\\ \\newline P = {resultD5}\\ \\text{{w}}')"
   ]
  },
  {
   "cell_type": "markdown",
   "id": "d00b4987",
   "metadata": {},
   "source": [
    "# Questão 6\n",
    "### \tUm eixo-árvore possui diâmetro d = 60 mm, e gira com rotação n = 7W0 rpm, movido por uma força tangencial$\\ \\ \\ \\ \\ \\ $  F$_{T}$ = 3Z kN. Determine: (10 pontos)"
   ]
  },
  {
   "cell_type": "code",
   "execution_count": 33,
   "id": "27f442c5",
   "metadata": {},
   "outputs": [],
   "source": [
    "# Bloco questão 6\n",
    "dezenaFt6 = 3\n",
    "unidadeFt6 = Z\n",
    "centenaN6 = 7\n",
    "dezenaN6 = W\n",
    "unidadeN6 = 0\n",
    "ft6 = (dezenaFt6*10+unidadeFt6*1)*1000\n",
    "n6 = centenaN6*100+dezenaN6*10+unidadeN6*1\n",
    "d6 = 0.060\n",
    "resultA61 = round((np.pi*n6)/(30),3)\n",
    "resultA62 = round(((np.pi*n6)/(30)/np.pi),precision)\n",
    "resultB6 = round((n6)/(60),precision)\n",
    "resultC6 = round(ft6*(d6/2),precision)\n",
    "resultD6 = round((np.pi*(d6/2)*n6)/(30),precision)"
   ]
  },
  {
   "cell_type": "markdown",
   "id": "762ffe0e",
   "metadata": {},
   "source": [
    "## a) Velocidade angular ($\\omega$)"
   ]
  },
  {
   "cell_type": "code",
   "execution_count": 34,
   "id": "5b5b9513",
   "metadata": {},
   "outputs": [
    {
     "data": {
      "text/latex": [
       "$\\displaystyle \\omega = \\dfrac{\\pi\\ .n}{30}\\newline\\ \\newline \\omega = \\dfrac{3.141592653589793\\times760}{30}\\newline\\ \\newline \\omega = \\dfrac{2387.610416728243}{30}\\newline\\ \\newline\\omega = 79.587\\ \\dfrac{\\text{rad}}{\\text{s}}\\newline\\ \\newline\\omega = 25.33\\ \\pi\\ \\dfrac{\\text{rad}}{\\text{s}}$"
      ],
      "text/plain": [
       "<IPython.core.display.Math object>"
      ]
     },
     "execution_count": 34,
     "metadata": {},
     "output_type": "execute_result"
    }
   ],
   "source": [
    "Math(rf'\\omega = \\dfrac{{\\pi\\ .n}}{{30}}\\newline\\ \\newline \\omega = \\dfrac{{{np.pi}\\times{n6}}}{{30}}\\newline\\ \\newline \\omega = \\dfrac{{{np.pi*n6}}}{{{30}}}\\newline\\ \\newline\\omega = {resultA61}\\ \\dfrac{{\\text{{rad}}}}{{\\text{{s}}}}\\newline\\ \\newline\\omega = {resultA62}\\ \\pi\\ \\dfrac{{\\text{{rad}}}}{{\\text{{s}}}}')"
   ]
  },
  {
   "cell_type": "markdown",
   "id": "bbb0d329",
   "metadata": {},
   "source": [
    "## b) Frequência ($f$)"
   ]
  },
  {
   "cell_type": "code",
   "execution_count": 35,
   "id": "b153fc96",
   "metadata": {},
   "outputs": [
    {
     "data": {
      "text/latex": [
       "$\\displaystyle f = \\dfrac{n}{60}\\newline\\ \\newline f = \\dfrac{760}{60}\\newline\\ \\newline f = 12.67\\text{ Hz}$"
      ],
      "text/plain": [
       "<IPython.core.display.Math object>"
      ]
     },
     "execution_count": 35,
     "metadata": {},
     "output_type": "execute_result"
    }
   ],
   "source": [
    "Math(rf'f = \\dfrac{{n}}{{60}}\\newline\\ \\newline f = \\dfrac{{{n6}}}{{{60}}}\\newline\\ \\newline f = {resultB6}\\text{{ Hz}}')"
   ]
  },
  {
   "cell_type": "markdown",
   "id": "7c6469f0",
   "metadata": {},
   "source": [
    "## c) Torque ($M_{t}$)"
   ]
  },
  {
   "cell_type": "code",
   "execution_count": 36,
   "id": "83b38190",
   "metadata": {
    "scrolled": true
   },
   "outputs": [
    {
     "data": {
      "text/latex": [
       "$\\displaystyle Mt = Ft.r\\newline\\ \\newline Mt = 34000\\times0.03\\newline\\ \\newline Mt = 1020.0\\ \\text{Nm}$"
      ],
      "text/plain": [
       "<IPython.core.display.Math object>"
      ]
     },
     "execution_count": 36,
     "metadata": {},
     "output_type": "execute_result"
    }
   ],
   "source": [
    "Math(rf'Mt = Ft.r\\newline\\ \\newline Mt = {ft6}\\times{(d6/2)}\\newline\\ \\newline Mt = {resultC6}\\ \\text{{Nm}}')"
   ]
  },
  {
   "cell_type": "markdown",
   "id": "8ec90a6b",
   "metadata": {},
   "source": [
    "## d) Velocidade periférica ($vp$)"
   ]
  },
  {
   "cell_type": "code",
   "execution_count": 37,
   "id": "89a276de",
   "metadata": {},
   "outputs": [
    {
     "data": {
      "text/latex": [
       "$\\displaystyle vp = \\dfrac{\\pi\\ .r\\ .n}{30}\\newline\\ \\newline vp = \\dfrac{3.141592653589793\\times0.03\\times760}{30}\\newline\\ \\newline vp = \\dfrac{71.62831250184728}{30}\\newline\\ \\newline vp= 2.39\\ \\dfrac{\\text{m}}{\\text{s}}$"
      ],
      "text/plain": [
       "<IPython.core.display.Math object>"
      ]
     },
     "execution_count": 37,
     "metadata": {},
     "output_type": "execute_result"
    }
   ],
   "source": [
    "Math(rf'vp = \\dfrac{{\\pi\\ .r\\ .n}}{{30}}\\newline\\ \\newline vp = \\dfrac{{{np.pi}\\times{(d6/2)}\\times{(n6)}}}{{30}}\\newline\\ \\newline vp = \\dfrac{{{np.pi*(d6/2)*n6}}}{{{30}}}\\newline\\ \\newline vp= {resultD6}\\ \\dfrac{{\\text{{m}}}}{{\\text{{s}}}}')"
   ]
  },
  {
   "cell_type": "markdown",
   "id": "f33d648d",
   "metadata": {},
   "source": [
    "# Questão 7\n",
    "###\tDimensione um eixo-árvore para atuar com segurança em uma potência P = 10 cv, e rotação 21W0 RPM. A tensão admissível do material aplicado é $\\tau_{adm}$ = 5Z MPa. (10 pontos).\n"
   ]
  },
  {
   "cell_type": "code",
   "execution_count": 38,
   "id": "1af548e4",
   "metadata": {},
   "outputs": [],
   "source": [
    "# Bloco questão 7\n",
    "dezenaT7 = 5\n",
    "unidadeT7 = Z\n",
    "milharN7 = 2\n",
    "centenaN7 = 1\n",
    "dezenaN7 = W\n",
    "unidadeN7 = 0\n",
    "t7 = (dezenaT7*10+unidadeT7*1)*1000000\n",
    "n7 = milharN7*1000+centenaN7*100+dezenaN7*10+unidadeN7*1\n",
    "d6 = 0.060\n",
    "p7 = 10*736\n",
    "result71 = round(3.65*((p7/(n7*t7))**(1/3)),5)\n",
    "result72 = round(((3.65*((p7/(n7*t7))**(1/3)))*1000),precision)"
   ]
  },
  {
   "cell_type": "code",
   "execution_count": 39,
   "id": "f30064d4",
   "metadata": {},
   "outputs": [
    {
     "data": {
      "text/latex": [
       "$\\displaystyle P\\text{$_\\text{w}$} = \\text{cv} . 736\\newline\\ \\newline P\\text{$_\\text{w}$} = 10\\times736\\newline\\ \\newline P\\text{$_\\text{w}$} = 7360\\ \\text{w}\\newline\\ \\newline \\tau\\text{$_\\text{adm}$} = 54000000\\ \\dfrac{\\text{N}}{\\text{m$^2$}}\\newline\\ \\newline d = 3,65\\sqrt[3]{\\dfrac{P}{n\\ .\\overline{\\tau}}}\\newline\\ \\newline d = 3,65\\sqrt[3]{\\dfrac{7360}{2160\\times54000000}}\\newline\\ \\newline d = 3,65\\sqrt[3]{\\dfrac{7360}{116640000000}}\\newline\\ \\newline d = 3,65\\sqrt[3]{6.310013717421125e-08}\\newline\\ \\newline d = 3,65\\times{0.003981164301128831}\\newline\\ \\newline d = 0.01453\\text{ m}\\newline\\ \\newline d = 14.53\\text{ mm}$"
      ],
      "text/plain": [
       "<IPython.core.display.Math object>"
      ]
     },
     "execution_count": 39,
     "metadata": {},
     "output_type": "execute_result"
    }
   ],
   "source": [
    "Math(rf'P\\text{{$_\\text{{w}}$}} = \\text{{cv}} . 736\\newline\\ \\newline P\\text{{$_\\text{{w}}$}} = {10}\\times{(736)}\\newline\\ \\newline P\\text{{$_\\text{{w}}$}} = {10*736}\\ \\text{{w}}\\newline\\ \\newline \\tau\\text{{$_\\text{{adm}}$}} = {t7}\\ \\dfrac{{\\text{{N}}}}{{\\text{{m$^2$}}}}\\newline\\ \\newline d = 3,65\\sqrt[3]{{\\dfrac{{P}}{{n\\ .\\overline{{\\tau}}}}}}\\newline\\ \\newline d = 3,65\\sqrt[3]{{\\dfrac{{{p7}}}{{{n7}\\times{t7}}}}}\\newline\\ \\newline d = 3,65\\sqrt[3]{{\\dfrac{{{p7}}}{{{n7*t7}}}}}\\newline\\ \\newline d = 3,65\\sqrt[3]{{{p7/(n7*t7)}}}\\newline\\ \\newline d = 3,65\\times{{{((p7/(n7*t7))**(1/3))}}}\\newline\\ \\newline d = {result71}\\text{{ m}}\\newline\\ \\newline d = {result72}\\text{{ mm}}')"
   ]
  },
  {
   "cell_type": "code",
   "execution_count": null,
   "id": "4bda9df2",
   "metadata": {},
   "outputs": [],
   "source": []
  }
 ],
 "metadata": {
  "hide_input": false,
  "kernelspec": {
   "display_name": "Python 3 (ipykernel)",
   "language": "python",
   "name": "python3"
  },
  "language_info": {
   "codemirror_mode": {
    "name": "ipython",
    "version": 3
   },
   "file_extension": ".py",
   "mimetype": "text/x-python",
   "name": "python",
   "nbconvert_exporter": "python",
   "pygments_lexer": "ipython3",
   "version": "3.11.4"
  }
 },
 "nbformat": 4,
 "nbformat_minor": 5
}
